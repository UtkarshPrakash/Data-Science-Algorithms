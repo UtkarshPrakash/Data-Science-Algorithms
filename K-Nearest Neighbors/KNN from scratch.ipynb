{
 "cells": [
  {
   "cell_type": "code",
   "execution_count": 1,
   "source": [
    "import numpy as np \r\n",
    "from scipy.stats import mode "
   ],
   "outputs": [],
   "metadata": {}
  },
  {
   "cell_type": "code",
   "execution_count": 2,
   "source": [
    "def eucledian_dist(p1, p2): #Eucledian distance\r\n",
    "    dist = np.sqrt(np.sum((p1-p2)**2))\r\n",
    "    return dist"
   ],
   "outputs": [],
   "metadata": {}
  },
  {
   "cell_type": "code",
   "execution_count": 7,
   "source": [
    "def predict(x_train, y, x_input, k): #Calculating K nearest Neighbors\r\n",
    "    op_labels = []\r\n",
    "    \r\n",
    "    for item in x_input: #Loop through the datapoints to be classified\r\n",
    "        \r\n",
    "        point_dist = [] #Stores distances\r\n",
    "        \r\n",
    "        for j in range(len(x_train)): #Looping through training data\r\n",
    "            distances = eucledian_dist(np.array(x_train[j,:]), item)\r\n",
    "            point_dist.append(distances)\r\n",
    "        point_dist = np.array(point_dist)\r\n",
    "        \r\n",
    "        dist = np.argsort(point_dist)[:k] #sorts array while preserving index, keeping the first K datapoints\r\n",
    "        labels = y[dist] #labels of the K datapoints from above \r\n",
    "        \r\n",
    "        lab = mode(labels) #Majority voting\r\n",
    "        lab = lab.mode[0]\r\n",
    "        op_labels.append(lab)\r\n",
    "    return op_labels"
   ],
   "outputs": [],
   "metadata": {}
  },
  {
   "cell_type": "code",
   "execution_count": 8,
   "source": [
    "from sklearn.metrics import accuracy_score\r\n",
    "from sklearn.datasets import load_iris\r\n",
    "from numpy.random import randint"
   ],
   "outputs": [],
   "metadata": {}
  },
  {
   "cell_type": "code",
   "execution_count": 9,
   "source": [
    "iris = load_iris()\r\n",
    "\r\n",
    "X = iris.data\r\n",
    "y = iris.target\r\n",
    "\r\n",
    "train_idx = xxx = randint(0, 150, 100)\r\n",
    "X_train = X[train_idx]\r\n",
    "y_train = y[train_idx]\r\n",
    "\r\n",
    "test_idx = xxx = randint(0,150,50) #taking 50 random samples\r\n",
    "X_test = X[test_idx]\r\n",
    "y_test = y[test_idx]\r\n",
    "\r\n",
    "y_pred = predict(X_train, y_train, X_test, 7)\r\n",
    "\r\n",
    "accuracy_score(y_test, y_pred)\r\n"
   ],
   "outputs": [
    {
     "output_type": "execute_result",
     "data": {
      "text/plain": [
       "0.96"
      ]
     },
     "metadata": {},
     "execution_count": 9
    }
   ],
   "metadata": {}
  },
  {
   "cell_type": "code",
   "execution_count": null,
   "source": [],
   "outputs": [],
   "metadata": {}
  }
 ],
 "metadata": {
  "orig_nbformat": 4,
  "language_info": {
   "name": "python",
   "version": "3.6.10",
   "mimetype": "text/x-python",
   "codemirror_mode": {
    "name": "ipython",
    "version": 3
   },
   "pygments_lexer": "ipython3",
   "nbconvert_exporter": "python",
   "file_extension": ".py"
  },
  "kernelspec": {
   "name": "python3",
   "display_name": "Python 3.6.10 64-bit ('py36': conda)"
  },
  "interpreter": {
   "hash": "0fbf1e39ed5c80b4a5adaa9ae218a9b88354c52f4830a0e3de364d14744996d5"
  }
 },
 "nbformat": 4,
 "nbformat_minor": 2
}